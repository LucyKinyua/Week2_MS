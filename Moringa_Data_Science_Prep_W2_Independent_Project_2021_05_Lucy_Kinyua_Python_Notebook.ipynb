{
  "nbformat": 4,
  "nbformat_minor": 0,
  "metadata": {
    "colab": {
      "name": "Moringa_Data_Science_Prep_W2_Independent_Project_2021_05_Lucy_Kinyua_Python_Notebook.ipynb",
      "provenance": [],
      "collapsed_sections": [],
      "toc_visible": true,
      "authorship_tag": "ABX9TyMI3dn+uhBhkabg/ApGycUv",
      "include_colab_link": true
    },
    "kernelspec": {
      "name": "python3",
      "display_name": "Python 3"
    },
    "language_info": {
      "name": "python"
    }
  },
  "cells": [
    {
      "cell_type": "markdown",
      "metadata": {
        "id": "view-in-github",
        "colab_type": "text"
      },
      "source": [
        "<a href=\"https://colab.research.google.com/github/LucyKinyua/Week2_MS/blob/main/Moringa_Data_Science_Prep_W2_Independent_Project_2021_05_Lucy_Kinyua_Python_Notebook.ipynb\" target=\"_parent\"><img src=\"https://colab.research.google.com/assets/colab-badge.svg\" alt=\"Open In Colab\"/></a>"
      ]
    },
    {
      "cell_type": "markdown",
      "metadata": {
        "id": "5Qs9iLhNPBw1"
      },
      "source": [
        "# Overview \n",
        "\n",
        "In this part of the Independent project, you will be required to perform the following procedures using the given contact_book dictionary.\n",
        "\n",
        "Initially, this dictionary will have the following contacts as keys and values:"
      ]
    },
    {
      "cell_type": "markdown",
      "metadata": {
        "id": "8Z1_zmp1jJIk"
      },
      "source": [
        "# Problems and Solutions (Outputs)"
      ]
    },
    {
      "cell_type": "code",
      "metadata": {
        "id": "edEcJC1eT97r"
      },
      "source": [
        "# Defining the contact_book dictionary;\n",
        "# \n",
        "contact_book = {\n",
        "        'Parul' : 'parul@moringa.org',\n",
        "\n",
        "        'Thomas' : 'thomas@moringa.org',\n",
        "\n",
        "        'Ashley' : 'ashley@moringa.org',\n",
        "\n",
        "        'Kellen' : 'kellen@moringa.org',\n",
        "\n",
        "        'June' : 'june@moringa.org',\n",
        "\n",
        "        'Joseph' : 'joe@moringa.org',\n",
        "\n",
        "        'Lillian' : 'lillian@moringa.org',\n",
        "\n",
        "        'Arnold' : 'arnold@moringa.org' \n",
        "}"
      ],
      "execution_count": null,
      "outputs": []
    },
    {
      "cell_type": "markdown",
      "metadata": {
        "id": "KKV9h60KPYdf"
      },
      "source": [
        "You will write python code that performs the following procedures:\n",
        "\n",
        "- Delete a contact from the dictionary when the user specifies the its key. \n",
        "- Print out the first 2 contacts. \n",
        "- Display the total no. of contacts left in the dictionary.\n",
        "- Add 2 new contacts in the dictionary. \n",
        "- Print out all the contacts."
      ]
    },
    {
      "cell_type": "code",
      "metadata": {
        "id": "zZnMEtZ0OtSJ",
        "colab": {
          "base_uri": "https://localhost:8080/"
        },
        "outputId": "0aae564d-8ade-46b1-fb73-58f6209306b0"
      },
      "source": [
        "# Displaying the contact_book dictionary;\n",
        "# \n",
        "print(contact_book)"
      ],
      "execution_count": null,
      "outputs": [
        {
          "output_type": "stream",
          "text": [
            "{'Parul': 'parul@moringa.org', 'Thomas': 'thomas@moringa.org', 'Ashley': 'ashley@moringa.org', 'Kellen': 'kellen@moringa.org', 'June': 'june@moringa.org', 'Joseph': 'joe@moringa.org', 'Lillian': 'lillian@moringa.org', 'Arnold': 'arnold@moringa.org'}\n"
          ],
          "name": "stdout"
        }
      ]
    },
    {
      "cell_type": "code",
      "metadata": {
        "colab": {
          "base_uri": "https://localhost:8080/"
        },
        "id": "dzrGUtV8eO00",
        "outputId": "a730292d-8a01-4d42-b652-70403c4503c8"
      },
      "source": [
        "# Instruction 1: Delete a contact from the dictionary when the user specifies the its key.\n",
        "# \n",
        "contact_key = input(\"Input name of contact you want deleted: \")\n",
        "\n",
        "if contact_key in contact_book:\n",
        "    del contact_book[contact_key]\n",
        "    print(str(contact_key) + \" has been deleted.\")\n",
        "else:\n",
        "    print(\"None\")\n",
        "\n",
        "# Confirming that the contact has been deleted;\n",
        "# \n",
        "print(contact_book)"
      ],
      "execution_count": null,
      "outputs": [
        {
          "output_type": "stream",
          "text": [
            "Input name of contact you want deleted: Parul\n",
            "Parul has been deleted.\n",
            "{'Thomas': 'thomas@moringa.org', 'Ashley': 'ashley@moringa.org', 'Kellen': 'kellen@moringa.org', 'June': 'june@moringa.org', 'Joseph': 'joe@moringa.org', 'Lillian': 'lillian@moringa.org', 'Arnold': 'arnold@moringa.org'}\n"
          ],
          "name": "stdout"
        }
      ]
    },
    {
      "cell_type": "code",
      "metadata": {
        "colab": {
          "base_uri": "https://localhost:8080/"
        },
        "id": "zp11W2Jl-zgw",
        "outputId": "4589a32e-54f6-4b15-acdc-5b0a835ae315"
      },
      "source": [
        "# Instruction 2: Print out the first 2 contacts. \n",
        "# \n",
        "contact_book_items = contact_book.items()\n",
        "\n",
        "first_two_contacts = list(contact_book_items)[:2]\n",
        "print(first_two_contacts)"
      ],
      "execution_count": null,
      "outputs": [
        {
          "output_type": "stream",
          "text": [
            "[('Thomas', 'thomas@moringa.org'), ('Ashley', 'ashley@moringa.org')]\n"
          ],
          "name": "stdout"
        }
      ]
    },
    {
      "cell_type": "code",
      "metadata": {
        "colab": {
          "base_uri": "https://localhost:8080/"
        },
        "id": "IZfQbIZC-5yM",
        "outputId": "1453c5f1-2920-49bc-c58f-5a8de9d65adb"
      },
      "source": [
        "# Instruction 3: Display the total number of contacts left in the dictionary.\n",
        "# \n",
        "print(len(contact_book))"
      ],
      "execution_count": null,
      "outputs": [
        {
          "output_type": "stream",
          "text": [
            "7\n"
          ],
          "name": "stdout"
        }
      ]
    },
    {
      "cell_type": "code",
      "metadata": {
        "colab": {
          "base_uri": "https://localhost:8080/"
        },
        "id": "pEIxE-qz-8IP",
        "outputId": "a53c6203-faad-44e7-e22c-01a4d91c6f8c"
      },
      "source": [
        "# Instruction 4: Add 2 new contacts in the dictionary. \n",
        "# \n",
        "contact_book ['Samuel'] = 'samuel@moringaschool.org'\n",
        "contact_book ['Kevin'] = 'kevin@moringaschool.org'\n",
        "print(contact_book)"
      ],
      "execution_count": null,
      "outputs": [
        {
          "output_type": "stream",
          "text": [
            "{'Thomas': 'thomas@moringa.org', 'Ashley': 'ashley@moringa.org', 'Kellen': 'kellen@moringa.org', 'June': 'june@moringa.org', 'Joseph': 'joe@moringa.org', 'Lillian': 'lillian@moringa.org', 'Arnold': 'arnold@moringa.org', 'Samuel': 'samuel@moringaschool.org', 'Kevin': 'kevin@moringaschool.org'}\n"
          ],
          "name": "stdout"
        }
      ]
    },
    {
      "cell_type": "code",
      "metadata": {
        "colab": {
          "base_uri": "https://localhost:8080/"
        },
        "id": "l8qCLuvviZFv",
        "outputId": "e7487bbf-15bf-429f-c804-183db2292ff6"
      },
      "source": [
        "# Instruction 5: Print out all the contacts.\n",
        "# \n",
        "for key, value in contact_book.items():\n",
        "    print (key, value)"
      ],
      "execution_count": null,
      "outputs": [
        {
          "output_type": "stream",
          "text": [
            "Thomas thomas@moringa.org\n",
            "Ashley ashley@moringa.org\n",
            "Kellen kellen@moringa.org\n",
            "June june@moringa.org\n",
            "Joseph joe@moringa.org\n",
            "Lillian lillian@moringa.org\n",
            "Arnold arnold@moringa.org\n",
            "Samuel samuel@moringaschool.org\n",
            "Kevin kevin@moringaschool.org\n"
          ],
          "name": "stdout"
        }
      ]
    }
  ]
}